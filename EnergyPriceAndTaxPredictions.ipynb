{
  "nbformat": 4,
  "nbformat_minor": 0,
  "metadata": {
    "kernelspec": {
      "display_name": "Python 3",
      "language": "python",
      "name": "python3"
    },
    "language_info": {
      "codemirror_mode": {
        "name": "ipython",
        "version": 3
      },
      "file_extension": ".py",
      "mimetype": "text/x-python",
      "name": "python",
      "nbconvert_exporter": "python",
      "pygments_lexer": "ipython3",
      "version": "3.8.3"
    },
    "colab": {
      "name": "EnergyPriceAndTaxPredictions.ipynb",
      "provenance": [],
      "collapsed_sections": []
    }
  },
  "cells": [
    {
      "cell_type": "markdown",
      "metadata": {
        "id": "EhnJM8NUVBmd"
      },
      "source": [
        ""
      ]
    },
    {
      "cell_type": "code",
      "metadata": {
        "id": "yxoY9yf7VBmj"
      },
      "source": [
        "import numpy as np\n",
        "import pandas as pd\n",
        "import matplotlib.pyplot as plt\n",
        "import seaborn as sns"
      ],
      "execution_count": 1,
      "outputs": []
    },
    {
      "cell_type": "markdown",
      "metadata": {
        "id": "WUm0tMpKVBmp"
      },
      "source": [
        "## Function definitions"
      ]
    },
    {
      "cell_type": "code",
      "metadata": {
        "colab": {
          "base_uri": "https://localhost:8080/"
        },
        "id": "Z1g_u5HnVBms",
        "outputId": "8fd19806-bc9d-43ba-851a-9e715e9b3a0a"
      },
      "source": [
        "from google.colab import drive\n",
        "drive.mount(\"/content/drive/\")"
      ],
      "execution_count": 2,
      "outputs": [
        {
          "output_type": "stream",
          "text": [
            "Mounted at /content/drive/\n"
          ],
          "name": "stdout"
        }
      ]
    },
    {
      "cell_type": "code",
      "metadata": {
        "id": "Ab6AiexyVqR6"
      },
      "source": [
        "# !ls 'drive/My Drive/hackathon-2021'\r\n",
        "\r\n",
        "missing_values = [\"n/a\", \"na\", \"--\", \"NaN\"]\r\n",
        "data = pd.read_csv('drive/My Drive/hackathon-2021/carbonTaxAll.csv', na_values = missing_values)"
      ],
      "execution_count": 3,
      "outputs": []
    },
    {
      "cell_type": "code",
      "metadata": {
        "id": "uSMuBBUZkFjn"
      },
      "source": [
        "# drop unused price label columns\r\n",
        "column_names = data.columns\r\n",
        "\r\n",
        "for i in column_names:\r\n",
        "  if ('Price_label' in i) or ('Instrument' in i) or ('Price_rate_2' in i):\r\n",
        "    data.drop(i , axis='columns', inplace=True)\r\n",
        "\r\n",
        "# drop Name of Initiative\r\n",
        "data.drop('Name of the initiative', axis='columns', inplace=True)"
      ],
      "execution_count": 4,
      "outputs": []
    },
    {
      "cell_type": "code",
      "metadata": {
        "id": "sQHDpeNFlJJB"
      },
      "source": [
        "# rename time related column names accordingly, keep only time related substring\r\n",
        "column_names = data.columns\r\n",
        "\r\n",
        "for i in column_names:\r\n",
        "  if ('Price_rate_1_' in i):\r\n",
        "    new_col_name = i.replace('Price_rate_1_','')\r\n",
        "    data.rename(columns = {i:new_col_name}, inplace = True)\r\n",
        "  if ('Price_rate_2_' in i):\r\n",
        "    new_col_name = i.replace('Price_rate_2_','')\r\n",
        "    data.rename(columns = {i:new_col_name}, inplace = True)"
      ],
      "execution_count": 5,
      "outputs": []
    },
    {
      "cell_type": "code",
      "metadata": {
        "id": "S_ataezqu5_T"
      },
      "source": [
        "# data.reset_index(drop=True, inplace=True)\r\n",
        "index_names = data[ data['Jurisdiction Covered'] != 'Alberta' ].index \r\n",
        "data.drop(index_names, inplace = True)"
      ],
      "execution_count": 6,
      "outputs": []
    },
    {
      "cell_type": "code",
      "metadata": {
        "id": "XD86LWsUwWlo"
      },
      "source": [
        "data.drop(1, inplace = True)\r\n"
      ],
      "execution_count": 7,
      "outputs": []
    },
    {
      "cell_type": "code",
      "metadata": {
        "id": "d6Zl33CrwWcE"
      },
      "source": [
        "data.drop('Jurisdiction Covered', axis='columns', inplace = True)"
      ],
      "execution_count": 8,
      "outputs": []
    },
    {
      "cell_type": "code",
      "metadata": {
        "colab": {
          "base_uri": "https://localhost:8080/",
          "height": 101
        },
        "id": "d-ETbjPswrUq",
        "outputId": "bec9aca9-716b-45dd-a13d-2397bfe6ef22"
      },
      "source": [
        "data"
      ],
      "execution_count": 9,
      "outputs": [
        {
          "output_type": "execute_result",
          "data": {
            "text/html": [
              "<div>\n",
              "<style scoped>\n",
              "    .dataframe tbody tr th:only-of-type {\n",
              "        vertical-align: middle;\n",
              "    }\n",
              "\n",
              "    .dataframe tbody tr th {\n",
              "        vertical-align: top;\n",
              "    }\n",
              "\n",
              "    .dataframe thead th {\n",
              "        text-align: right;\n",
              "    }\n",
              "</style>\n",
              "<table border=\"1\" class=\"dataframe\">\n",
              "  <thead>\n",
              "    <tr style=\"text-align: right;\">\n",
              "      <th></th>\n",
              "      <th>1990</th>\n",
              "      <th>1991</th>\n",
              "      <th>1992</th>\n",
              "      <th>1993</th>\n",
              "      <th>1994</th>\n",
              "      <th>1995</th>\n",
              "      <th>1996</th>\n",
              "      <th>1997</th>\n",
              "      <th>1998</th>\n",
              "      <th>1999</th>\n",
              "      <th>2000</th>\n",
              "      <th>2001</th>\n",
              "      <th>2002</th>\n",
              "      <th>2003</th>\n",
              "      <th>2004</th>\n",
              "      <th>2005</th>\n",
              "      <th>2006</th>\n",
              "      <th>2007</th>\n",
              "      <th>2008</th>\n",
              "      <th>2009</th>\n",
              "      <th>2010</th>\n",
              "      <th>2011</th>\n",
              "      <th>2012</th>\n",
              "      <th>2013</th>\n",
              "      <th>2014</th>\n",
              "      <th>2015</th>\n",
              "      <th>2016</th>\n",
              "      <th>2017</th>\n",
              "      <th>2018</th>\n",
              "      <th>2019</th>\n",
              "      <th>2020</th>\n",
              "    </tr>\n",
              "  </thead>\n",
              "  <tbody>\n",
              "    <tr>\n",
              "      <th>0</th>\n",
              "      <td>NaN</td>\n",
              "      <td>NaN</td>\n",
              "      <td>NaN</td>\n",
              "      <td>NaN</td>\n",
              "      <td>NaN</td>\n",
              "      <td>NaN</td>\n",
              "      <td>NaN</td>\n",
              "      <td>NaN</td>\n",
              "      <td>NaN</td>\n",
              "      <td>NaN</td>\n",
              "      <td>NaN</td>\n",
              "      <td>NaN</td>\n",
              "      <td>NaN</td>\n",
              "      <td>NaN</td>\n",
              "      <td>NaN</td>\n",
              "      <td>NaN</td>\n",
              "      <td>NaN</td>\n",
              "      <td>12.974656</td>\n",
              "      <td>14.605648</td>\n",
              "      <td>11.864273</td>\n",
              "      <td>14.888337</td>\n",
              "      <td>15.577942</td>\n",
              "      <td>15.125542</td>\n",
              "      <td>14.753615</td>\n",
              "      <td>13.602975</td>\n",
              "      <td>11.893435</td>\n",
              "      <td>15.375294</td>\n",
              "      <td>23.973137</td>\n",
              "      <td>23.252205</td>\n",
              "      <td>22.493795</td>\n",
              "      <td>22.629503</td>\n",
              "    </tr>\n",
              "  </tbody>\n",
              "</table>\n",
              "</div>"
            ],
            "text/plain": [
              "   1990  1991  1992  1993  ...       2017       2018       2019       2020\n",
              "0   NaN   NaN   NaN   NaN  ...  23.973137  23.252205  22.493795  22.629503\n",
              "\n",
              "[1 rows x 31 columns]"
            ]
          },
          "metadata": {
            "tags": []
          },
          "execution_count": 9
        }
      ]
    },
    {
      "cell_type": "code",
      "metadata": {
        "id": "DBlTXsfQtlXg"
      },
      "source": [
        "timeSeries = data.transpose()"
      ],
      "execution_count": 10,
      "outputs": []
    },
    {
      "cell_type": "code",
      "metadata": {
        "id": "mxeYjK25w5VW"
      },
      "source": [
        "timeSeries.rename(columns = {0:'carbon_price'}, inplace = True) "
      ],
      "execution_count": 11,
      "outputs": []
    },
    {
      "cell_type": "code",
      "metadata": {
        "id": "yekXwfyluUr8"
      },
      "source": [
        "timeSeries.reset_index( inplace=True)"
      ],
      "execution_count": 12,
      "outputs": []
    },
    {
      "cell_type": "code",
      "metadata": {
        "colab": {
          "base_uri": "https://localhost:8080/"
        },
        "id": "0z_XV5I5up_j",
        "outputId": "4df0a7df-12c2-424b-af14-275e2b826abe"
      },
      "source": [
        "timeSeries.rename(columns = {'index':'year'}, inplace = True) \r\n",
        "timeSeries.columns"
      ],
      "execution_count": 13,
      "outputs": [
        {
          "output_type": "execute_result",
          "data": {
            "text/plain": [
              "Index(['year', 'carbon_price'], dtype='object')"
            ]
          },
          "metadata": {
            "tags": []
          },
          "execution_count": 13
        }
      ]
    },
    {
      "cell_type": "code",
      "metadata": {
        "colab": {
          "base_uri": "https://localhost:8080/",
          "height": 206
        },
        "id": "a88590qGys-I",
        "outputId": "4bbbdd63-4ea2-4074-f886-87edda459f03"
      },
      "source": [
        "# Producing time series for Alberta\r\n",
        "timeSeries.tail()"
      ],
      "execution_count": 14,
      "outputs": [
        {
          "output_type": "execute_result",
          "data": {
            "text/html": [
              "<div>\n",
              "<style scoped>\n",
              "    .dataframe tbody tr th:only-of-type {\n",
              "        vertical-align: middle;\n",
              "    }\n",
              "\n",
              "    .dataframe tbody tr th {\n",
              "        vertical-align: top;\n",
              "    }\n",
              "\n",
              "    .dataframe thead th {\n",
              "        text-align: right;\n",
              "    }\n",
              "</style>\n",
              "<table border=\"1\" class=\"dataframe\">\n",
              "  <thead>\n",
              "    <tr style=\"text-align: right;\">\n",
              "      <th></th>\n",
              "      <th>year</th>\n",
              "      <th>carbon_price</th>\n",
              "    </tr>\n",
              "  </thead>\n",
              "  <tbody>\n",
              "    <tr>\n",
              "      <th>26</th>\n",
              "      <td>2016</td>\n",
              "      <td>15.375294</td>\n",
              "    </tr>\n",
              "    <tr>\n",
              "      <th>27</th>\n",
              "      <td>2017</td>\n",
              "      <td>23.973137</td>\n",
              "    </tr>\n",
              "    <tr>\n",
              "      <th>28</th>\n",
              "      <td>2018</td>\n",
              "      <td>23.252205</td>\n",
              "    </tr>\n",
              "    <tr>\n",
              "      <th>29</th>\n",
              "      <td>2019</td>\n",
              "      <td>22.493795</td>\n",
              "    </tr>\n",
              "    <tr>\n",
              "      <th>30</th>\n",
              "      <td>2020</td>\n",
              "      <td>22.629503</td>\n",
              "    </tr>\n",
              "  </tbody>\n",
              "</table>\n",
              "</div>"
            ],
            "text/plain": [
              "    year  carbon_price\n",
              "26  2016     15.375294\n",
              "27  2017     23.973137\n",
              "28  2018     23.252205\n",
              "29  2019     22.493795\n",
              "30  2020     22.629503"
            ]
          },
          "metadata": {
            "tags": []
          },
          "execution_count": 14
        }
      ]
    },
    {
      "cell_type": "code",
      "metadata": {
        "id": "aWBgfkxr3kWx"
      },
      "source": [
        "timeSeries.dtypes\r\n",
        "timeSeries.year = timeSeries.year.astype(str).astype(float)\r\n",
        "\r\n",
        "timeSeries['year'] =  pd.to_datetime(timeSeries.year, format='%Y')"
      ],
      "execution_count": 15,
      "outputs": []
    },
    {
      "cell_type": "code",
      "metadata": {
        "id": "iqMTEV6J34E3"
      },
      "source": [
        "timeSeries = timeSeries.set_index('year')"
      ],
      "execution_count": 16,
      "outputs": []
    },
    {
      "cell_type": "code",
      "metadata": {
        "colab": {
          "base_uri": "https://localhost:8080/",
          "height": 238
        },
        "id": "CJz_Tm9AgTlG",
        "outputId": "3a50b8f9-45fe-412e-e8de-b426f3fbdc43"
      },
      "source": [
        "timeSeries.tail()"
      ],
      "execution_count": 17,
      "outputs": [
        {
          "output_type": "execute_result",
          "data": {
            "text/html": [
              "<div>\n",
              "<style scoped>\n",
              "    .dataframe tbody tr th:only-of-type {\n",
              "        vertical-align: middle;\n",
              "    }\n",
              "\n",
              "    .dataframe tbody tr th {\n",
              "        vertical-align: top;\n",
              "    }\n",
              "\n",
              "    .dataframe thead th {\n",
              "        text-align: right;\n",
              "    }\n",
              "</style>\n",
              "<table border=\"1\" class=\"dataframe\">\n",
              "  <thead>\n",
              "    <tr style=\"text-align: right;\">\n",
              "      <th></th>\n",
              "      <th>carbon_price</th>\n",
              "    </tr>\n",
              "    <tr>\n",
              "      <th>year</th>\n",
              "      <th></th>\n",
              "    </tr>\n",
              "  </thead>\n",
              "  <tbody>\n",
              "    <tr>\n",
              "      <th>2016-01-01</th>\n",
              "      <td>15.375294</td>\n",
              "    </tr>\n",
              "    <tr>\n",
              "      <th>2017-01-01</th>\n",
              "      <td>23.973137</td>\n",
              "    </tr>\n",
              "    <tr>\n",
              "      <th>2018-01-01</th>\n",
              "      <td>23.252205</td>\n",
              "    </tr>\n",
              "    <tr>\n",
              "      <th>2019-01-01</th>\n",
              "      <td>22.493795</td>\n",
              "    </tr>\n",
              "    <tr>\n",
              "      <th>2020-01-01</th>\n",
              "      <td>22.629503</td>\n",
              "    </tr>\n",
              "  </tbody>\n",
              "</table>\n",
              "</div>"
            ],
            "text/plain": [
              "            carbon_price\n",
              "year                    \n",
              "2016-01-01     15.375294\n",
              "2017-01-01     23.973137\n",
              "2018-01-01     23.252205\n",
              "2019-01-01     22.493795\n",
              "2020-01-01     22.629503"
            ]
          },
          "metadata": {
            "tags": []
          },
          "execution_count": 17
        }
      ]
    },
    {
      "cell_type": "code",
      "metadata": {
        "id": "uUL02sMQcJCf"
      },
      "source": [
        "y = timeSeries['carbon_price'].resample('Y').sum()"
      ],
      "execution_count": 18,
      "outputs": []
    },
    {
      "cell_type": "code",
      "metadata": {
        "colab": {
          "base_uri": "https://localhost:8080/"
        },
        "id": "EJzoUJnbe7QX",
        "outputId": "e637e9ab-94f5-4028-c6e6-38c938c195f6"
      },
      "source": [
        "y"
      ],
      "execution_count": 19,
      "outputs": [
        {
          "output_type": "execute_result",
          "data": {
            "text/plain": [
              "year\n",
              "1990-12-31     0.000000\n",
              "1991-12-31     0.000000\n",
              "1992-12-31     0.000000\n",
              "1993-12-31     0.000000\n",
              "1994-12-31     0.000000\n",
              "1995-12-31     0.000000\n",
              "1996-12-31     0.000000\n",
              "1997-12-31     0.000000\n",
              "1998-12-31     0.000000\n",
              "1999-12-31     0.000000\n",
              "2000-12-31     0.000000\n",
              "2001-12-31     0.000000\n",
              "2002-12-31     0.000000\n",
              "2003-12-31     0.000000\n",
              "2004-12-31     0.000000\n",
              "2005-12-31     0.000000\n",
              "2006-12-31     0.000000\n",
              "2007-12-31    12.974656\n",
              "2008-12-31    14.605648\n",
              "2009-12-31    11.864273\n",
              "2010-12-31    14.888337\n",
              "2011-12-31    15.577942\n",
              "2012-12-31    15.125542\n",
              "2013-12-31    14.753615\n",
              "2014-12-31    13.602975\n",
              "2015-12-31    11.893435\n",
              "2016-12-31    15.375294\n",
              "2017-12-31    23.973137\n",
              "2018-12-31    23.252205\n",
              "2019-12-31    22.493795\n",
              "2020-12-31    22.629503\n",
              "Freq: A-DEC, Name: carbon_price, dtype: float64"
            ]
          },
          "metadata": {
            "tags": []
          },
          "execution_count": 19
        }
      ]
    },
    {
      "cell_type": "code",
      "metadata": {
        "colab": {
          "base_uri": "https://localhost:8080/",
          "height": 494
        },
        "id": "n1EmK3YGhfaI",
        "outputId": "f33a29cf-b005-4d54-f55d-c8b0e46bf52c"
      },
      "source": [
        "import matplotlib\r\n",
        "import statsmodels.api as sm\r\n",
        "\r\n",
        "matplotlib.rcParams['axes.labelsize'] = 14\r\n",
        "matplotlib.rcParams['xtick.labelsize'] = 12\r\n",
        "matplotlib.rcParams['ytick.labelsize'] = 12\r\n",
        "matplotlib.rcParams['text.color'] = 'k'\r\n",
        "\r\n",
        "from pylab import rcParams\r\n",
        "rcParams['figure.figsize'] = 18, 8\r\n",
        "decomposition = sm.tsa.seasonal_decompose(y, model='additive')\r\n",
        "fig = decomposition.plot()\r\n",
        "plt.show()"
      ],
      "execution_count": 20,
      "outputs": [
        {
          "output_type": "stream",
          "text": [
            "/usr/local/lib/python3.6/dist-packages/statsmodels/tools/_testing.py:19: FutureWarning: pandas.util.testing is deprecated. Use the functions in the public API at pandas.testing instead.\n",
            "  import pandas.util.testing as tm\n"
          ],
          "name": "stderr"
        },
        {
          "output_type": "display_data",
          "data": {
            "image/png": "[encoded data removed]",
            "text/plain": [
              "<Figure size 1296x576 with 4 Axes>"
            ]
          },
          "metadata": {
            "tags": [],
            "needs_background": "light"
          }
        }
      ]
    },
    {
      "cell_type": "code",
      "metadata": {
        "colab": {
          "base_uri": "https://localhost:8080/"
        },
        "id": "rBDSsQ3TcAbZ",
        "outputId": "3b66cd55-3b17-49e3-cc87-42ffc9a94a0c"
      },
      "source": [
        "import itertools\r\n",
        "\r\n",
        "p = d = q = range(0, 2)\r\n",
        "pdq = list(itertools.product(p, d, q))\r\n",
        "seasonal_pdq = [(x[0], x[1], x[2], 12) for x in list(itertools.product(p, d, q))]\r\n",
        "\r\n",
        "print('Examples of parameter combinations for Seasonal ARIMA...')\r\n",
        "print('SARIMAX: {} x {}'.format(pdq[1], seasonal_pdq[1]))\r\n",
        "print('SARIMAX: {} x {}'.format(pdq[1], seasonal_pdq[2]))\r\n",
        "print('SARIMAX: {} x {}'.format(pdq[2], seasonal_pdq[3]))\r\n",
        "print('SARIMAX: {} x {}'.format(pdq[2], seasonal_pdq[4]))"
      ],
      "execution_count": 21,
      "outputs": [
        {
          "output_type": "stream",
          "text": [
            "Examples of parameter combinations for Seasonal ARIMA...\n",
            "SARIMAX: (0, 0, 1) x (0, 0, 1, 12)\n",
            "SARIMAX: (0, 0, 1) x (0, 1, 0, 12)\n",
            "SARIMAX: (0, 1, 0) x (0, 1, 1, 12)\n",
            "SARIMAX: (0, 1, 0) x (1, 0, 0, 12)\n"
          ],
          "name": "stdout"
        }
      ]
    },
    {
      "cell_type": "code",
      "metadata": {
        "colab": {
          "base_uri": "https://localhost:8080/"
        },
        "id": "4omxHqAuiUhk",
        "outputId": "e952da32-2f8a-49e2-a84d-e6d143c01349"
      },
      "source": [
        "for param in pdq:\r\n",
        "    for param_seasonal in seasonal_pdq:\r\n",
        "        try:\r\n",
        "            mod = sm.tsa.statespace.SARIMAX(y,\r\n",
        "                                            order=param,\r\n",
        "                                            seasonal_order=param_seasonal,\r\n",
        "                                            enforce_stationarity=False,\r\n",
        "                                            enforce_invertibility=False)\r\n",
        "            results = mod.fit()\r\n",
        "            print('ARIMA{}x{}12 - AIC:{}'.format(param, param_seasonal, results.aic))\r\n",
        "        except:\r\n",
        "            continue"
      ],
      "execution_count": 22,
      "outputs": [
        {
          "output_type": "stream",
          "text": [
            "ARIMA(0, 0, 0)x(0, 0, 0, 12)12 - AIC:234.8780989485747\n",
            "ARIMA(0, 0, 0)x(0, 1, 0, 12)12 - AIC:146.70152694864942\n",
            "ARIMA(0, 0, 0)x(1, 0, 0, 12)12 - AIC:154.8090786162379\n",
            "ARIMA(0, 0, 0)x(1, 1, 0, 12)12 - AIC:62.23572097565754\n",
            "ARIMA(0, 0, 1)x(0, 0, 0, 12)12 - AIC:198.19588138917788\n",
            "ARIMA(0, 0, 1)x(0, 1, 0, 12)12 - AIC:122.48802645351599\n",
            "ARIMA(0, 0, 1)x(1, 0, 0, 12)12 - AIC:137.08055544276652\n",
            "ARIMA(0, 0, 1)x(1, 1, 0, 12)12 - AIC:56.05762676811028\n",
            "ARIMA(0, 1, 0)x(0, 0, 0, 12)12 - AIC:150.0440047049787\n",
            "ARIMA(0, 1, 0)x(0, 1, 0, 12)12 - AIC:106.68029419624605\n",
            "ARIMA(0, 1, 0)x(1, 0, 0, 12)12 - AIC:104.43918590439662\n",
            "ARIMA(0, 1, 0)x(1, 1, 0, 12)12 - AIC:37.24488974514385\n",
            "ARIMA(0, 1, 1)x(0, 0, 0, 12)12 - AIC:147.22341055445872\n",
            "ARIMA(0, 1, 1)x(0, 1, 0, 12)12 - AIC:102.36987832350148\n",
            "ARIMA(0, 1, 1)x(1, 0, 0, 12)12 - AIC:106.0261943205749\n",
            "ARIMA(0, 1, 1)x(1, 1, 0, 12)12 - AIC:38.63406112981089\n",
            "ARIMA(1, 0, 0)x(0, 0, 0, 12)12 - AIC:155.7298210475658\n",
            "ARIMA(1, 0, 0)x(0, 1, 0, 12)12 - AIC:113.31013912003046\n",
            "ARIMA(1, 0, 0)x(1, 0, 0, 12)12 - AIC:106.04320169432494\n",
            "ARIMA(1, 0, 0)x(1, 1, 0, 12)12 - AIC:38.40496983365581\n",
            "ARIMA(1, 0, 1)x(0, 0, 0, 12)12 - AIC:153.29826430170073\n",
            "ARIMA(1, 0, 1)x(0, 1, 0, 12)12 - AIC:108.49950688802927\n",
            "ARIMA(1, 0, 1)x(1, 0, 0, 12)12 - AIC:107.96242285057909\n",
            "ARIMA(1, 0, 1)x(1, 1, 0, 12)12 - AIC:38.39164834797519\n",
            "ARIMA(1, 1, 0)x(0, 0, 0, 12)12 - AIC:151.68679903772883\n",
            "ARIMA(1, 1, 0)x(0, 1, 0, 12)12 - AIC:108.39066144343454\n",
            "ARIMA(1, 1, 0)x(1, 0, 0, 12)12 - AIC:101.62633532489566\n",
            "ARIMA(1, 1, 0)x(1, 1, 0, 12)12 - AIC:34.24052838050444\n",
            "ARIMA(1, 1, 1)x(0, 0, 0, 12)12 - AIC:147.80289019303842\n",
            "ARIMA(1, 1, 1)x(0, 1, 0, 12)12 - AIC:102.34509971926815\n",
            "ARIMA(1, 1, 1)x(1, 0, 0, 12)12 - AIC:102.04057222969355\n",
            "ARIMA(1, 1, 1)x(1, 1, 0, 12)12 - AIC:35.390105298690045\n"
          ],
          "name": "stdout"
        }
      ]
    },
    {
      "cell_type": "code",
      "metadata": {
        "colab": {
          "base_uri": "https://localhost:8080/"
        },
        "id": "a0LiXGP8ikNa",
        "outputId": "bfca6aa8-2f00-44d0-fece-99aa08e8b941"
      },
      "source": [
        "mod = sm.tsa.statespace.SARIMAX(y,\r\n",
        "                              \r\n",
        "                                order=(1, 1, 1),\r\n",
        "                                seasonal_order=(1, 1, 0, 12),\r\n",
        "                                enforce_stationarity=False,\r\n",
        "                                enforce_invertibility=False)\r\n",
        "results = mod.fit()\r\n",
        "print(results.summary().tables[1])"
      ],
      "execution_count": 23,
      "outputs": [
        {
          "output_type": "stream",
          "text": [
            "==============================================================================\n",
            "                 coef    std err          z      P>|z|      [0.025      0.975]\n",
            "------------------------------------------------------------------------------\n",
            "ar.L1         -0.2657      2.101     -0.126      0.899      -4.383       3.852\n",
            "ma.L1          1.0000   3.18e+04   3.15e-05      1.000   -6.23e+04    6.23e+04\n",
            "ar.S.L12      -0.8206      2.374     -0.346      0.730      -5.473       3.832\n",
            "sigma2        11.3789   3.62e+05   3.15e-05      1.000   -7.09e+05    7.09e+05\n",
            "==============================================================================\n"
          ],
          "name": "stdout"
        }
      ]
    },
    {
      "cell_type": "markdown",
      "metadata": {
        "id": "phOv-ruAjAmo"
      },
      "source": [
        "To help us understand the accuracy of our forecasts, we compare predicted carbon tax of the time series, and we set forecasts to start at 2020–01–01 to the end of the data."
      ]
    },
    {
      "cell_type": "code",
      "metadata": {
        "colab": {
          "base_uri": "https://localhost:8080/",
          "height": 449
        },
        "id": "3Bt9pCOUi_Mt",
        "outputId": "ea59f282-d6ce-4126-f1fa-255bad72c263"
      },
      "source": [
        "pred_uc = results.get_forecast(steps=15)\r\n",
        "pred_ci = pred_uc.conf_int(alpha=0.95)\r\n",
        "\r\n",
        "ax = y.plot(label='observed', figsize=(14, 7))\r\n",
        "pred_uc.predicted_mean.plot(ax=ax, label='Forecast')\r\n",
        "\r\n",
        "ax.fill_between(pred_ci.index, pred_ci.iloc[:, 0], pred_ci.iloc[:, 1], color='k', alpha=.1)\r\n",
        "\r\n",
        "ax.set_xlabel('Date')\r\n",
        "ax.set_ylabel('Carbon Tax in Alberta')\r\n",
        "\r\n",
        "plt.legend()\r\n",
        "plt.show()"
      ],
      "execution_count": 25,
      "outputs": [
        {
          "output_type": "display_data",
          "data": {
            "image/png": "[encoded data removed]",
            "text/plain": [
              "<Figure size 1008x504 with 1 Axes>"
            ]
          },
          "metadata": {
            "tags": [],
            "needs_background": "light"
          }
        }
      ]
    },
    {
      "cell_type": "code",
      "metadata": {
        "colab": {
          "base_uri": "https://localhost:8080/",
          "height": 520
        },
        "id": "oHO-CDDBB06x",
        "outputId": "12181541-5e26-4e28-ea03-03ffc2f5657f"
      },
      "source": [
        "pred_ci"
      ],
      "execution_count": 27,
      "outputs": [
        {
          "output_type": "execute_result",
          "data": {
            "text/html": [
              "<div>\n",
              "<style scoped>\n",
              "    .dataframe tbody tr th:only-of-type {\n",
              "        vertical-align: middle;\n",
              "    }\n",
              "\n",
              "    .dataframe tbody tr th {\n",
              "        vertical-align: top;\n",
              "    }\n",
              "\n",
              "    .dataframe thead th {\n",
              "        text-align: right;\n",
              "    }\n",
              "</style>\n",
              "<table border=\"1\" class=\"dataframe\">\n",
              "  <thead>\n",
              "    <tr style=\"text-align: right;\">\n",
              "      <th></th>\n",
              "      <th>lower carbon_price</th>\n",
              "      <th>upper carbon_price</th>\n",
              "    </tr>\n",
              "  </thead>\n",
              "  <tbody>\n",
              "    <tr>\n",
              "      <th>2021-12-31</th>\n",
              "      <td>21.347343</td>\n",
              "      <td>21.796942</td>\n",
              "    </tr>\n",
              "    <tr>\n",
              "      <th>2022-12-31</th>\n",
              "      <td>21.837785</td>\n",
              "      <td>22.692059</td>\n",
              "    </tr>\n",
              "    <tr>\n",
              "      <th>2023-12-31</th>\n",
              "      <td>21.811062</td>\n",
              "      <td>22.886388</td>\n",
              "    </tr>\n",
              "    <tr>\n",
              "      <th>2024-12-31</th>\n",
              "      <td>21.643995</td>\n",
              "      <td>22.912338</td>\n",
              "    </tr>\n",
              "    <tr>\n",
              "      <th>2025-12-31</th>\n",
              "      <td>21.492012</td>\n",
              "      <td>22.925235</td>\n",
              "    </tr>\n",
              "    <tr>\n",
              "      <th>2026-12-31</th>\n",
              "      <td>21.212150</td>\n",
              "      <td>22.793732</td>\n",
              "    </tr>\n",
              "    <tr>\n",
              "      <th>2027-12-31</th>\n",
              "      <td>20.837527</td>\n",
              "      <td>22.554556</td>\n",
              "    </tr>\n",
              "    <tr>\n",
              "      <th>2028-12-31</th>\n",
              "      <td>21.399469</td>\n",
              "      <td>23.242048</td>\n",
              "    </tr>\n",
              "    <tr>\n",
              "      <th>2029-12-31</th>\n",
              "      <td>22.883195</td>\n",
              "      <td>24.843292</td>\n",
              "    </tr>\n",
              "    <tr>\n",
              "      <th>2030-12-31</th>\n",
              "      <td>22.698429</td>\n",
              "      <td>24.769387</td>\n",
              "    </tr>\n",
              "    <tr>\n",
              "      <th>2031-12-31</th>\n",
              "      <td>33.156689</td>\n",
              "      <td>35.332867</td>\n",
              "    </tr>\n",
              "    <tr>\n",
              "      <th>2032-12-31</th>\n",
              "      <td>34.469237</td>\n",
              "      <td>36.745778</td>\n",
              "    </tr>\n",
              "    <tr>\n",
              "      <th>2033-12-31</th>\n",
              "      <td>31.969914</td>\n",
              "      <td>34.366594</td>\n",
              "    </tr>\n",
              "    <tr>\n",
              "      <th>2034-12-31</th>\n",
              "      <td>34.510924</td>\n",
              "      <td>37.037223</td>\n",
              "    </tr>\n",
              "    <tr>\n",
              "      <th>2035-12-31</th>\n",
              "      <td>35.032170</td>\n",
              "      <td>37.677818</td>\n",
              "    </tr>\n",
              "  </tbody>\n",
              "</table>\n",
              "</div>"
            ],
            "text/plain": [
              "            lower carbon_price  upper carbon_price\n",
              "2021-12-31           21.347343           21.796942\n",
              "2022-12-31           21.837785           22.692059\n",
              "2023-12-31           21.811062           22.886388\n",
              "2024-12-31           21.643995           22.912338\n",
              "2025-12-31           21.492012           22.925235\n",
              "2026-12-31           21.212150           22.793732\n",
              "2027-12-31           20.837527           22.554556\n",
              "2028-12-31           21.399469           23.242048\n",
              "2029-12-31           22.883195           24.843292\n",
              "2030-12-31           22.698429           24.769387\n",
              "2031-12-31           33.156689           35.332867\n",
              "2032-12-31           34.469237           36.745778\n",
              "2033-12-31           31.969914           34.366594\n",
              "2034-12-31           34.510924           37.037223\n",
              "2035-12-31           35.032170           37.677818"
            ]
          },
          "metadata": {
            "tags": []
          },
          "execution_count": 27
        }
      ]
    },
    {
      "cell_type": "markdown",
      "metadata": {
        "id": "btp-EfCQxgxk"
      },
      "source": [
        "Prediction of Energy Prices / Energy Consumer Price Index\r\n",
        "\r\n",
        "Using"
      ]
    },
    {
      "cell_type": "code",
      "metadata": {
        "colab": {
          "base_uri": "https://localhost:8080/",
          "height": 542
        },
        "id": "69mMHyAYtLOD",
        "outputId": "59a7826a-0928-439a-9bbc-9cc205bc8c03"
      },
      "source": [
        "# Plotly version\r\n",
        "\r\n",
        "import plotly.express as px\r\n",
        "\r\n",
        "fig = px.line(x=y.index, y=y.values, title=\"Carbon Tax Prediction in Alberta\", labels=dict(x=\"Year\", y=\"Tax $\", color=\"Place\"))\r\n",
        "fig.add_scatter(x=pred_ci.index, y=pred_ci['lower carbon_price'])\r\n",
        "fig.update_layout(showlegend=False)\r\n",
        "fig.show()"
      ],
      "execution_count": 28,
      "outputs": [
        {
          "output_type": "display_data",
          "data": {
            "text/html": [
              "<html>\n",
              "<head><meta charset=\"utf-8\" /></head>\n",
              "<body>\n",
              "    <div>\n",
              "            <script src=\"https://cdnjs.cloudflare.com/ajax/libs/mathjax/2.7.5/MathJax.js?config=TeX-AMS-MML_SVG\"></script><script type=\"text/javascript\">if (window.MathJax) {MathJax.Hub.Config({SVG: {font: \"STIX-Web\"}});}</script>\n",
              "                <script type=\"text/javascript\">window.PlotlyConfig = {MathJaxConfig: 'local'};</script>\n",
              "        <script src=\"https://cdn.plot.ly/plotly-latest.min.js\"></script>    \n",
              "            <div id=\"03b36bae-b530-4c3e-a588-f517bbd73666\" class=\"plotly-graph-div\" style=\"height:525px; width:100%;\"></div>\n",
              "            <script type=\"text/javascript\">\n",
              "                \n",
              "                    window.PLOTLYENV=window.PLOTLYENV || {};\n",
              "                    \n",
              "                if (document.getElementById(\"03b36bae-b530-4c3e-a588-f517bbd73666\")) {\n",
              "                    Plotly.newPlot(\n",
              "                        '03b36bae-b530-4c3e-a588-f517bbd73666',\n",
              "                        [{\"hoverlabel\": {\"namelength\": 0}, \"hovertemplate\": \"Year=%{x}<br>Tax $=%{y}\", \"legendgroup\": \"\", \"line\": {\"color\": \"#636efa\", \"dash\": \"solid\"}, \"mode\": \"lines\", \"name\": \"\", \"showlegend\": false, \"type\": \"scatter\", \"x\": [\"1990-12-31T00:00:00\", \"1991-12-31T00:00:00\", \"1992-12-31T00:00:00\", \"1993-12-31T00:00:00\", \"1994-12-31T00:00:00\", \"1995-12-31T00:00:00\", \"1996-12-31T00:00:00\", \"1997-12-31T00:00:00\", \"1998-12-31T00:00:00\", \"1999-12-31T00:00:00\", \"2000-12-31T00:00:00\", \"2001-12-31T00:00:00\", \"2002-12-31T00:00:00\", \"2003-12-31T00:00:00\", \"2004-12-31T00:00:00\", \"2005-12-31T00:00:00\", \"2006-12-31T00:00:00\", \"2007-12-31T00:00:00\", \"2008-12-31T00:00:00\", \"2009-12-31T00:00:00\", \"2010-12-31T00:00:00\", \"2011-12-31T00:00:00\", \"2012-12-31T00:00:00\", \"2013-12-31T00:00:00\", \"2014-12-31T00:00:00\", \"2015-12-31T00:00:00\", \"2016-12-31T00:00:00\", \"2017-12-31T00:00:00\", \"2018-12-31T00:00:00\", \"2019-12-31T00:00:00\", \"2020-12-31T00:00:00\"], \"xaxis\": \"x\", \"y\": [0.0, 0.0, 0.0, 0.0, 0.0, 0.0, 0.0, 0.0, 0.0, 0.0, 0.0, 0.0, 0.0, 0.0, 0.0, 0.0, 0.0, 12.97465617, 14.60564752, 11.86427272, 14.88833747, 15.57794163, 15.125542000000001, 14.75361464, 13.60297452, 11.89343482, 15.37529374, 23.97313676, 23.25220494, 22.49379498, 22.62950339], \"yaxis\": \"y\"}, {\"type\": \"scatter\", \"x\": [\"2021-12-31T00:00:00\", \"2022-12-31T00:00:00\", \"2023-12-31T00:00:00\", \"2024-12-31T00:00:00\", \"2025-12-31T00:00:00\", \"2026-12-31T00:00:00\", \"2027-12-31T00:00:00\", \"2028-12-31T00:00:00\", \"2029-12-31T00:00:00\", \"2030-12-31T00:00:00\", \"2031-12-31T00:00:00\", \"2032-12-31T00:00:00\", \"2033-12-31T00:00:00\", \"2034-12-31T00:00:00\", \"2035-12-31T00:00:00\"], \"y\": [21.347342854564708, 21.837784958726903, 21.811062273968762, 21.643994730161758, 21.492011692020245, 21.212149875078534, 20.83752746674574, 21.39946874521351, 22.883195243752986, 22.698429277914048, 33.156688725200354, 34.46923730274835, 31.969914197905286, 34.51092429241204, 35.032169657122004]}],\n",
              "                        {\"legend\": {\"tracegroupgap\": 0}, \"showlegend\": false, \"template\": {\"data\": {\"bar\": [{\"error_x\": {\"color\": \"#2a3f5f\"}, \"error_y\": {\"color\": \"#2a3f5f\"}, \"marker\": {\"line\": {\"color\": \"#E5ECF6\", \"width\": 0.5}}, \"type\": \"bar\"}], \"barpolar\": [{\"marker\": {\"line\": {\"color\": \"#E5ECF6\", \"width\": 0.5}}, \"type\": \"barpolar\"}], \"carpet\": [{\"aaxis\": {\"endlinecolor\": \"#2a3f5f\", \"gridcolor\": \"white\", \"linecolor\": \"white\", \"minorgridcolor\": \"white\", \"startlinecolor\": \"#2a3f5f\"}, \"baxis\": {\"endlinecolor\": \"#2a3f5f\", \"gridcolor\": \"white\", \"linecolor\": \"white\", \"minorgridcolor\": \"white\", \"startlinecolor\": \"#2a3f5f\"}, \"type\": \"carpet\"}], \"choropleth\": [{\"colorbar\": {\"outlinewidth\": 0, \"ticks\": \"\"}, \"type\": \"choropleth\"}], \"contour\": [{\"colorbar\": {\"outlinewidth\": 0, \"ticks\": \"\"}, \"colorscale\": [[0.0, \"#0d0887\"], [0.1111111111111111, \"#46039f\"], [0.2222222222222222, \"#7201a8\"], [0.3333333333333333, \"#9c179e\"], [0.4444444444444444, \"#bd3786\"], [0.5555555555555556, \"#d8576b\"], [0.6666666666666666, \"#ed7953\"], [0.7777777777777778, \"#fb9f3a\"], [0.8888888888888888, \"#fdca26\"], [1.0, \"#f0f921\"]], \"type\": \"contour\"}], \"contourcarpet\": [{\"colorbar\": {\"outlinewidth\": 0, \"ticks\": \"\"}, \"type\": \"contourcarpet\"}], \"heatmap\": [{\"colorbar\": {\"outlinewidth\": 0, \"ticks\": \"\"}, \"colorscale\": [[0.0, \"#0d0887\"], [0.1111111111111111, \"#46039f\"], [0.2222222222222222, \"#7201a8\"], [0.3333333333333333, \"#9c179e\"], [0.4444444444444444, \"#bd3786\"], [0.5555555555555556, \"#d8576b\"], [0.6666666666666666, \"#ed7953\"], [0.7777777777777778, \"#fb9f3a\"], [0.8888888888888888, \"#fdca26\"], [1.0, \"#f0f921\"]], \"type\": \"heatmap\"}], \"heatmapgl\": [{\"colorbar\": {\"outlinewidth\": 0, \"ticks\": \"\"}, \"colorscale\": [[0.0, \"#0d0887\"], [0.1111111111111111, \"#46039f\"], [0.2222222222222222, \"#7201a8\"], [0.3333333333333333, \"#9c179e\"], [0.4444444444444444, \"#bd3786\"], [0.5555555555555556, \"#d8576b\"], [0.6666666666666666, \"#ed7953\"], [0.7777777777777778, \"#fb9f3a\"], [0.8888888888888888, \"#fdca26\"], [1.0, \"#f0f921\"]], \"type\": \"heatmapgl\"}], \"histogram\": [{\"marker\": {\"colorbar\": {\"outlinewidth\": 0, \"ticks\": \"\"}}, \"type\": \"histogram\"}], \"histogram2d\": [{\"colorbar\": {\"outlinewidth\": 0, \"ticks\": \"\"}, \"colorscale\": [[0.0, \"#0d0887\"], [0.1111111111111111, \"#46039f\"], [0.2222222222222222, \"#7201a8\"], [0.3333333333333333, \"#9c179e\"], [0.4444444444444444, \"#bd3786\"], [0.5555555555555556, \"#d8576b\"], [0.6666666666666666, \"#ed7953\"], [0.7777777777777778, \"#fb9f3a\"], [0.8888888888888888, \"#fdca26\"], [1.0, \"#f0f921\"]], \"type\": \"histogram2d\"}], \"histogram2dcontour\": [{\"colorbar\": {\"outlinewidth\": 0, \"ticks\": \"\"}, \"colorscale\": [[0.0, \"#0d0887\"], [0.1111111111111111, \"#46039f\"], [0.2222222222222222, \"#7201a8\"], [0.3333333333333333, \"#9c179e\"], [0.4444444444444444, \"#bd3786\"], [0.5555555555555556, \"#d8576b\"], [0.6666666666666666, \"#ed7953\"], [0.7777777777777778, \"#fb9f3a\"], [0.8888888888888888, \"#fdca26\"], [1.0, \"#f0f921\"]], \"type\": \"histogram2dcontour\"}], \"mesh3d\": [{\"colorbar\": {\"outlinewidth\": 0, \"ticks\": \"\"}, \"type\": \"mesh3d\"}], \"parcoords\": [{\"line\": {\"colorbar\": {\"outlinewidth\": 0, \"ticks\": \"\"}}, \"type\": \"parcoords\"}], \"pie\": [{\"automargin\": true, \"type\": \"pie\"}], \"scatter\": [{\"marker\": {\"colorbar\": {\"outlinewidth\": 0, \"ticks\": \"\"}}, \"type\": \"scatter\"}], \"scatter3d\": [{\"line\": {\"colorbar\": {\"outlinewidth\": 0, \"ticks\": \"\"}}, \"marker\": {\"colorbar\": {\"outlinewidth\": 0, \"ticks\": \"\"}}, \"type\": \"scatter3d\"}], \"scattercarpet\": [{\"marker\": {\"colorbar\": {\"outlinewidth\": 0, \"ticks\": \"\"}}, \"type\": \"scattercarpet\"}], \"scattergeo\": [{\"marker\": {\"colorbar\": {\"outlinewidth\": 0, \"ticks\": \"\"}}, \"type\": \"scattergeo\"}], \"scattergl\": [{\"marker\": {\"colorbar\": {\"outlinewidth\": 0, \"ticks\": \"\"}}, \"type\": \"scattergl\"}], \"scattermapbox\": [{\"marker\": {\"colorbar\": {\"outlinewidth\": 0, \"ticks\": \"\"}}, \"type\": \"scattermapbox\"}], \"scatterpolar\": [{\"marker\": {\"colorbar\": {\"outlinewidth\": 0, \"ticks\": \"\"}}, \"type\": \"scatterpolar\"}], \"scatterpolargl\": [{\"marker\": {\"colorbar\": {\"outlinewidth\": 0, \"ticks\": \"\"}}, \"type\": \"scatterpolargl\"}], \"scatterternary\": [{\"marker\": {\"colorbar\": {\"outlinewidth\": 0, \"ticks\": \"\"}}, \"type\": \"scatterternary\"}], \"surface\": [{\"colorbar\": {\"outlinewidth\": 0, \"ticks\": \"\"}, \"colorscale\": [[0.0, \"#0d0887\"], [0.1111111111111111, \"#46039f\"], [0.2222222222222222, \"#7201a8\"], [0.3333333333333333, \"#9c179e\"], [0.4444444444444444, \"#bd3786\"], [0.5555555555555556, \"#d8576b\"], [0.6666666666666666, \"#ed7953\"], [0.7777777777777778, \"#fb9f3a\"], [0.8888888888888888, \"#fdca26\"], [1.0, \"#f0f921\"]], \"type\": \"surface\"}], \"table\": [{\"cells\": {\"fill\": {\"color\": \"#EBF0F8\"}, \"line\": {\"color\": \"white\"}}, \"header\": {\"fill\": {\"color\": \"#C8D4E3\"}, \"line\": {\"color\": \"white\"}}, \"type\": \"table\"}]}, \"layout\": {\"annotationdefaults\": {\"arrowcolor\": \"#2a3f5f\", \"arrowhead\": 0, \"arrowwidth\": 1}, \"coloraxis\": {\"colorbar\": {\"outlinewidth\": 0, \"ticks\": \"\"}}, \"colorscale\": {\"diverging\": [[0, \"#8e0152\"], [0.1, \"#c51b7d\"], [0.2, \"#de77ae\"], [0.3, \"#f1b6da\"], [0.4, \"#fde0ef\"], [0.5, \"#f7f7f7\"], [0.6, \"#e6f5d0\"], [0.7, \"#b8e186\"], [0.8, \"#7fbc41\"], [0.9, \"#4d9221\"], [1, \"#276419\"]], \"sequential\": [[0.0, \"#0d0887\"], [0.1111111111111111, \"#46039f\"], [0.2222222222222222, \"#7201a8\"], [0.3333333333333333, \"#9c179e\"], [0.4444444444444444, \"#bd3786\"], [0.5555555555555556, \"#d8576b\"], [0.6666666666666666, \"#ed7953\"], [0.7777777777777778, \"#fb9f3a\"], [0.8888888888888888, \"#fdca26\"], [1.0, \"#f0f921\"]], \"sequentialminus\": [[0.0, \"#0d0887\"], [0.1111111111111111, \"#46039f\"], [0.2222222222222222, \"#7201a8\"], [0.3333333333333333, \"#9c179e\"], [0.4444444444444444, \"#bd3786\"], [0.5555555555555556, \"#d8576b\"], [0.6666666666666666, \"#ed7953\"], [0.7777777777777778, \"#fb9f3a\"], [0.8888888888888888, \"#fdca26\"], [1.0, \"#f0f921\"]]}, \"colorway\": [\"#636efa\", \"#EF553B\", \"#00cc96\", \"#ab63fa\", \"#FFA15A\", \"#19d3f3\", \"#FF6692\", \"#B6E880\", \"#FF97FF\", \"#FECB52\"], \"font\": {\"color\": \"#2a3f5f\"}, \"geo\": {\"bgcolor\": \"white\", \"lakecolor\": \"white\", \"landcolor\": \"#E5ECF6\", \"showlakes\": true, \"showland\": true, \"subunitcolor\": \"white\"}, \"hoverlabel\": {\"align\": \"left\"}, \"hovermode\": \"closest\", \"mapbox\": {\"style\": \"light\"}, \"paper_bgcolor\": \"white\", \"plot_bgcolor\": \"#E5ECF6\", \"polar\": {\"angularaxis\": {\"gridcolor\": \"white\", \"linecolor\": \"white\", \"ticks\": \"\"}, \"bgcolor\": \"#E5ECF6\", \"radialaxis\": {\"gridcolor\": \"white\", \"linecolor\": \"white\", \"ticks\": \"\"}}, \"scene\": {\"xaxis\": {\"backgroundcolor\": \"#E5ECF6\", \"gridcolor\": \"white\", \"gridwidth\": 2, \"linecolor\": \"white\", \"showbackground\": true, \"ticks\": \"\", \"zerolinecolor\": \"white\"}, \"yaxis\": {\"backgroundcolor\": \"#E5ECF6\", \"gridcolor\": \"white\", \"gridwidth\": 2, \"linecolor\": \"white\", \"showbackground\": true, \"ticks\": \"\", \"zerolinecolor\": \"white\"}, \"zaxis\": {\"backgroundcolor\": \"#E5ECF6\", \"gridcolor\": \"white\", \"gridwidth\": 2, \"linecolor\": \"white\", \"showbackground\": true, \"ticks\": \"\", \"zerolinecolor\": \"white\"}}, \"shapedefaults\": {\"line\": {\"color\": \"#2a3f5f\"}}, \"ternary\": {\"aaxis\": {\"gridcolor\": \"white\", \"linecolor\": \"white\", \"ticks\": \"\"}, \"baxis\": {\"gridcolor\": \"white\", \"linecolor\": \"white\", \"ticks\": \"\"}, \"bgcolor\": \"#E5ECF6\", \"caxis\": {\"gridcolor\": \"white\", \"linecolor\": \"white\", \"ticks\": \"\"}}, \"title\": {\"x\": 0.05}, \"xaxis\": {\"automargin\": true, \"gridcolor\": \"white\", \"linecolor\": \"white\", \"ticks\": \"\", \"title\": {\"standoff\": 15}, \"zerolinecolor\": \"white\", \"zerolinewidth\": 2}, \"yaxis\": {\"automargin\": true, \"gridcolor\": \"white\", \"linecolor\": \"white\", \"ticks\": \"\", \"title\": {\"standoff\": 15}, \"zerolinecolor\": \"white\", \"zerolinewidth\": 2}}}, \"title\": {\"text\": \"Carbon Tax Prediction in Alberta\"}, \"xaxis\": {\"anchor\": \"y\", \"domain\": [0.0, 1.0], \"title\": {\"text\": \"Year\"}}, \"yaxis\": {\"anchor\": \"x\", \"domain\": [0.0, 1.0], \"title\": {\"text\": \"Tax $\"}}},\n",
              "                        {\"responsive\": true}\n",
              "                    ).then(function(){\n",
              "                            \n",
              "var gd = document.getElementById('03b36bae-b530-4c3e-a588-f517bbd73666');\n",
              "var x = new MutationObserver(function (mutations, observer) {{\n",
              "        var display = window.getComputedStyle(gd).display;\n",
              "        if (!display || display === 'none') {{\n",
              "            console.log([gd, 'removed!']);\n",
              "            Plotly.purge(gd);\n",
              "            observer.disconnect();\n",
              "        }}\n",
              "}});\n",
              "\n",
              "// Listen for the removal of the full notebook cells\n",
              "var notebookContainer = gd.closest('#notebook-container');\n",
              "if (notebookContainer) {{\n",
              "    x.observe(notebookContainer, {childList: true});\n",
              "}}\n",
              "\n",
              "// Listen for the clearing of the current output cell\n",
              "var outputEl = gd.closest('.output');\n",
              "if (outputEl) {{\n",
              "    x.observe(outputEl, {childList: true});\n",
              "}}\n",
              "\n",
              "                        })\n",
              "                };\n",
              "                \n",
              "            </script>\n",
              "        </div>\n",
              "</body>\n",
              "</html>"
            ]
          },
          "metadata": {
            "tags": []
          }
        }
      ]
    },
    {
      "cell_type": "code",
      "metadata": {
        "id": "pUztyDePymdQ"
      },
      "source": [
        "energy_prices = pd.read_csv('drive/My Drive/hackathon-2021/EnergyConsumerPricesIndex.csv', na_values = missing_values)"
      ],
      "execution_count": 29,
      "outputs": []
    },
    {
      "cell_type": "code",
      "metadata": {
        "colab": {
          "base_uri": "https://localhost:8080/",
          "height": 206
        },
        "id": "ocU94FusyzFB",
        "outputId": "c678660f-40c7-4f4a-8956-7f604ce335ce"
      },
      "source": [
        "energy_prices.head()"
      ],
      "execution_count": 30,
      "outputs": [
        {
          "output_type": "execute_result",
          "data": {
            "text/html": [
              "<div>\n",
              "<style scoped>\n",
              "    .dataframe tbody tr th:only-of-type {\n",
              "        vertical-align: middle;\n",
              "    }\n",
              "\n",
              "    .dataframe tbody tr th {\n",
              "        vertical-align: top;\n",
              "    }\n",
              "\n",
              "    .dataframe thead th {\n",
              "        text-align: right;\n",
              "    }\n",
              "</style>\n",
              "<table border=\"1\" class=\"dataframe\">\n",
              "  <thead>\n",
              "    <tr style=\"text-align: right;\">\n",
              "      <th></th>\n",
              "      <th>Year</th>\n",
              "      <th>CPI</th>\n",
              "    </tr>\n",
              "  </thead>\n",
              "  <tbody>\n",
              "    <tr>\n",
              "      <th>0</th>\n",
              "      <td>1957</td>\n",
              "      <td>21.477</td>\n",
              "    </tr>\n",
              "    <tr>\n",
              "      <th>1</th>\n",
              "      <td>1958</td>\n",
              "      <td>21.531</td>\n",
              "    </tr>\n",
              "    <tr>\n",
              "      <th>2</th>\n",
              "      <td>1959</td>\n",
              "      <td>21.900</td>\n",
              "    </tr>\n",
              "    <tr>\n",
              "      <th>3</th>\n",
              "      <td>1960</td>\n",
              "      <td>22.431</td>\n",
              "    </tr>\n",
              "    <tr>\n",
              "      <th>4</th>\n",
              "      <td>1961</td>\n",
              "      <td>22.492</td>\n",
              "    </tr>\n",
              "  </tbody>\n",
              "</table>\n",
              "</div>"
            ],
            "text/plain": [
              "   Year     CPI\n",
              "0  1957  21.477\n",
              "1  1958  21.531\n",
              "2  1959  21.900\n",
              "3  1960  22.431\n",
              "4  1961  22.492"
            ]
          },
          "metadata": {
            "tags": []
          },
          "execution_count": 30
        }
      ]
    },
    {
      "cell_type": "code",
      "metadata": {
        "id": "4Zz6QJzlyzCz"
      },
      "source": [
        "energy_prices.dtypes\r\n",
        "\r\n",
        "energy_prices['Year'] =  pd.to_datetime(energy_prices.Year, format='%Y')"
      ],
      "execution_count": 31,
      "outputs": []
    },
    {
      "cell_type": "code",
      "metadata": {
        "id": "cPwkM4NHyzAd"
      },
      "source": [
        "energy_prices = energy_prices.set_index('Year')"
      ],
      "execution_count": 32,
      "outputs": []
    },
    {
      "cell_type": "code",
      "metadata": {
        "colab": {
          "base_uri": "https://localhost:8080/",
          "height": 238
        },
        "id": "7k7byfXzyy98",
        "outputId": "07b26bd3-ba47-42b3-b73f-3f8e893acdc6"
      },
      "source": [
        "energy_prices.head()"
      ],
      "execution_count": 33,
      "outputs": [
        {
          "output_type": "execute_result",
          "data": {
            "text/html": [
              "<div>\n",
              "<style scoped>\n",
              "    .dataframe tbody tr th:only-of-type {\n",
              "        vertical-align: middle;\n",
              "    }\n",
              "\n",
              "    .dataframe tbody tr th {\n",
              "        vertical-align: top;\n",
              "    }\n",
              "\n",
              "    .dataframe thead th {\n",
              "        text-align: right;\n",
              "    }\n",
              "</style>\n",
              "<table border=\"1\" class=\"dataframe\">\n",
              "  <thead>\n",
              "    <tr style=\"text-align: right;\">\n",
              "      <th></th>\n",
              "      <th>CPI</th>\n",
              "    </tr>\n",
              "    <tr>\n",
              "      <th>Year</th>\n",
              "      <th></th>\n",
              "    </tr>\n",
              "  </thead>\n",
              "  <tbody>\n",
              "    <tr>\n",
              "      <th>1957-01-01</th>\n",
              "      <td>21.477</td>\n",
              "    </tr>\n",
              "    <tr>\n",
              "      <th>1958-01-01</th>\n",
              "      <td>21.531</td>\n",
              "    </tr>\n",
              "    <tr>\n",
              "      <th>1959-01-01</th>\n",
              "      <td>21.900</td>\n",
              "    </tr>\n",
              "    <tr>\n",
              "      <th>1960-01-01</th>\n",
              "      <td>22.431</td>\n",
              "    </tr>\n",
              "    <tr>\n",
              "      <th>1961-01-01</th>\n",
              "      <td>22.492</td>\n",
              "    </tr>\n",
              "  </tbody>\n",
              "</table>\n",
              "</div>"
            ],
            "text/plain": [
              "               CPI\n",
              "Year              \n",
              "1957-01-01  21.477\n",
              "1958-01-01  21.531\n",
              "1959-01-01  21.900\n",
              "1960-01-01  22.431\n",
              "1961-01-01  22.492"
            ]
          },
          "metadata": {
            "tags": []
          },
          "execution_count": 33
        }
      ]
    },
    {
      "cell_type": "code",
      "metadata": {
        "id": "xFgQm5c3yy7a"
      },
      "source": [
        "y_energy = energy_prices['CPI'].resample('Y').sum()"
      ],
      "execution_count": 34,
      "outputs": []
    },
    {
      "cell_type": "code",
      "metadata": {
        "colab": {
          "base_uri": "https://localhost:8080/"
        },
        "id": "oz7w1UC8z0JQ",
        "outputId": "aa2c51b1-d90c-4a23-9417-cd8b5baca593"
      },
      "source": [
        "for param in pdq:\r\n",
        "    for param_seasonal in seasonal_pdq:\r\n",
        "        try:\r\n",
        "            mod = sm.tsa.statespace.SARIMAX(y_energy,\r\n",
        "                                            order=param,\r\n",
        "                                            seasonal_order=param_seasonal,\r\n",
        "                                            enforce_stationarity=False,\r\n",
        "                                            enforce_invertibility=False)\r\n",
        "            results = mod.fit()\r\n",
        "            print('ARIMA{}x{}12 - AIC:{}'.format(param, param_seasonal, results.aic))\r\n",
        "        except:\r\n",
        "            continue"
      ],
      "execution_count": 36,
      "outputs": [
        {
          "output_type": "stream",
          "text": [
            "ARIMA(0, 0, 0)x(0, 0, 0, 12)12 - AIC:807.6495198755761\n",
            "ARIMA(0, 0, 0)x(0, 0, 1, 12)12 - AIC:636.8856003528997\n",
            "ARIMA(0, 0, 0)x(0, 1, 0, 12)12 - AIC:574.6244308928982\n",
            "ARIMA(0, 0, 0)x(0, 1, 1, 12)12 - AIC:450.042706010012\n",
            "ARIMA(0, 0, 0)x(1, 0, 0, 12)12 - AIC:560.3053203667041\n",
            "ARIMA(0, 0, 0)x(1, 0, 1, 12)12 - AIC:539.4235686708229\n",
            "ARIMA(0, 0, 0)x(1, 1, 0, 12)12 - AIC:458.82197555877326\n",
            "ARIMA(0, 0, 0)x(1, 1, 1, 12)12 - AIC:437.6205777491914\n",
            "ARIMA(0, 0, 1)x(0, 0, 0, 12)12 - AIC:717.6687445155848\n",
            "ARIMA(0, 0, 1)x(0, 0, 1, 12)12 - AIC:564.5955452630046\n",
            "ARIMA(0, 0, 1)x(0, 1, 0, 12)12 - AIC:510.3392179042721\n",
            "ARIMA(0, 0, 1)x(0, 1, 1, 12)12 - AIC:397.7303635624963\n",
            "ARIMA(0, 0, 1)x(1, 0, 0, 12)12 - AIC:511.41919981773015\n",
            "ARIMA(0, 0, 1)x(1, 0, 1, 12)12 - AIC:485.20192362600324\n",
            "ARIMA(0, 0, 1)x(1, 1, 0, 12)12 - AIC:419.2752358348002\n",
            "ARIMA(0, 0, 1)x(1, 1, 1, 12)12 - AIC:391.2616741698416\n",
            "ARIMA(0, 1, 0)x(0, 0, 0, 12)12 - AIC:500.7397993788679\n",
            "ARIMA(0, 1, 0)x(0, 0, 1, 12)12 - AIC:418.0707375472043\n",
            "ARIMA(0, 1, 0)x(0, 1, 0, 12)12 - AIC:445.1913679696014\n",
            "ARIMA(0, 1, 0)x(0, 1, 1, 12)12 - AIC:333.85142157359445\n",
            "ARIMA(0, 1, 0)x(1, 0, 0, 12)12 - AIC:425.04817889413613\n",
            "ARIMA(0, 1, 0)x(1, 0, 1, 12)12 - AIC:419.92897865343326\n",
            "ARIMA(0, 1, 0)x(1, 1, 0, 12)12 - AIC:335.7405413252659\n",
            "ARIMA(0, 1, 0)x(1, 1, 1, 12)12 - AIC:330.2181618345886\n",
            "ARIMA(0, 1, 1)x(0, 0, 0, 12)12 - AIC:494.2438332402756\n",
            "ARIMA(0, 1, 1)x(0, 0, 1, 12)12 - AIC:411.0495478514078\n",
            "ARIMA(0, 1, 1)x(0, 1, 0, 12)12 - AIC:439.4512778410154\n",
            "ARIMA(0, 1, 1)x(0, 1, 1, 12)12 - AIC:328.22693584659385\n",
            "ARIMA(0, 1, 1)x(1, 0, 0, 12)12 - AIC:424.91418103681167\n",
            "ARIMA(0, 1, 1)x(1, 0, 1, 12)12 - AIC:412.6953942910221\n",
            "ARIMA(0, 1, 1)x(1, 1, 0, 12)12 - AIC:337.7378438485704\n",
            "ARIMA(0, 1, 1)x(1, 1, 1, 12)12 - AIC:324.84241447313417\n",
            "ARIMA(1, 0, 0)x(0, 0, 0, 12)12 - AIC:508.13958728001546\n",
            "ARIMA(1, 0, 0)x(0, 0, 1, 12)12 - AIC:426.7442148857367\n",
            "ARIMA(1, 0, 0)x(0, 1, 0, 12)12 - AIC:453.62568606214455\n"
          ],
          "name": "stdout"
        },
        {
          "output_type": "stream",
          "text": [
            "/usr/local/lib/python3.6/dist-packages/statsmodels/base/model.py:512: ConvergenceWarning:\n",
            "\n",
            "Maximum Likelihood optimization failed to converge. Check mle_retvals\n",
            "\n"
          ],
          "name": "stderr"
        },
        {
          "output_type": "stream",
          "text": [
            "ARIMA(1, 0, 0)x(0, 1, 1, 12)12 - AIC:343.1541932295919\n",
            "ARIMA(1, 0, 0)x(1, 0, 0, 12)12 - AIC:424.79043048978673\n",
            "ARIMA(1, 0, 0)x(1, 0, 1, 12)12 - AIC:426.7707050095357\n",
            "ARIMA(1, 0, 0)x(1, 1, 0, 12)12 - AIC:337.65471591455565\n",
            "ARIMA(1, 0, 0)x(1, 1, 1, 12)12 - AIC:339.4512465456562\n",
            "ARIMA(1, 0, 1)x(0, 0, 0, 12)12 - AIC:502.2493851700339\n"
          ],
          "name": "stdout"
        },
        {
          "output_type": "stream",
          "text": [
            "/usr/local/lib/python3.6/dist-packages/statsmodels/base/model.py:512: ConvergenceWarning:\n",
            "\n",
            "Maximum Likelihood optimization failed to converge. Check mle_retvals\n",
            "\n"
          ],
          "name": "stderr"
        },
        {
          "output_type": "stream",
          "text": [
            "ARIMA(1, 0, 1)x(0, 0, 1, 12)12 - AIC:421.128952782402\n",
            "ARIMA(1, 0, 1)x(0, 1, 0, 12)12 - AIC:447.82453528462764\n",
            "ARIMA(1, 0, 1)x(0, 1, 1, 12)12 - AIC:337.44193114912474\n",
            "ARIMA(1, 0, 1)x(1, 0, 0, 12)12 - AIC:425.37821820603745\n",
            "ARIMA(1, 0, 1)x(1, 0, 1, 12)12 - AIC:420.3401668103595\n",
            "ARIMA(1, 0, 1)x(1, 1, 0, 12)12 - AIC:339.6487896347064\n",
            "ARIMA(1, 0, 1)x(1, 1, 1, 12)12 - AIC:334.07944549250135\n",
            "ARIMA(1, 1, 0)x(0, 0, 0, 12)12 - AIC:501.54913090763966\n",
            "ARIMA(1, 1, 0)x(0, 0, 1, 12)12 - AIC:418.65759272112103\n",
            "ARIMA(1, 1, 0)x(0, 1, 0, 12)12 - AIC:447.1525650156025\n",
            "ARIMA(1, 1, 0)x(0, 1, 1, 12)12 - AIC:335.8132729331521\n",
            "ARIMA(1, 1, 0)x(1, 0, 0, 12)12 - AIC:418.3606801321155\n",
            "ARIMA(1, 1, 0)x(1, 0, 1, 12)12 - AIC:420.35421302559865\n",
            "ARIMA(1, 1, 0)x(1, 1, 0, 12)12 - AIC:330.42435337227795\n",
            "ARIMA(1, 1, 0)x(1, 1, 1, 12)12 - AIC:332.1978134808987\n",
            "ARIMA(1, 1, 1)x(0, 0, 0, 12)12 - AIC:495.11831792512373\n",
            "ARIMA(1, 1, 1)x(0, 0, 1, 12)12 - AIC:412.3412308164589\n",
            "ARIMA(1, 1, 1)x(0, 1, 0, 12)12 - AIC:440.03381556936483\n",
            "ARIMA(1, 1, 1)x(0, 1, 1, 12)12 - AIC:329.4433223373527\n",
            "ARIMA(1, 1, 1)x(1, 0, 0, 12)12 - AIC:419.395508023161\n",
            "ARIMA(1, 1, 1)x(1, 0, 1, 12)12 - AIC:414.0766017856915\n",
            "ARIMA(1, 1, 1)x(1, 1, 0, 12)12 - AIC:330.76126984310224\n",
            "ARIMA(1, 1, 1)x(1, 1, 1, 12)12 - AIC:325.4126537512579\n"
          ],
          "name": "stdout"
        }
      ]
    },
    {
      "cell_type": "code",
      "metadata": {
        "colab": {
          "base_uri": "https://localhost:8080/"
        },
        "id": "cQaUANOyz7GL",
        "outputId": "74708063-00a3-4f45-a56a-2b35ea1c17e5"
      },
      "source": [
        "mod = sm.tsa.statespace.SARIMAX(y_energy,\r\n",
        "                                order=(1, 1, 1),\r\n",
        "                                seasonal_order=(1, 1, 0, 12),\r\n",
        "                                enforce_stationarity=False,\r\n",
        "                                enforce_invertibility=False)\r\n",
        "results = mod.fit()\r\n",
        "print(results.summary().tables[1])"
      ],
      "execution_count": 37,
      "outputs": [
        {
          "output_type": "stream",
          "text": [
            "==============================================================================\n",
            "                 coef    std err          z      P>|z|      [0.025      0.975]\n",
            "------------------------------------------------------------------------------\n",
            "ar.L1          0.6780      0.270      2.510      0.012       0.149       1.207\n",
            "ma.L1         -0.8606      0.205     -4.197      0.000      -1.262      -0.459\n",
            "ar.S.L12      -1.0981      0.263     -4.181      0.000      -1.613      -0.583\n",
            "sigma2       229.0335     43.155      5.307      0.000     144.451     313.616\n",
            "==============================================================================\n"
          ],
          "name": "stdout"
        }
      ]
    },
    {
      "cell_type": "code",
      "metadata": {
        "colab": {
          "base_uri": "https://localhost:8080/",
          "height": 520
        },
        "id": "zqErDrTiz-21",
        "outputId": "ded82421-2271-452a-acd8-82b3e9eb9e7a"
      },
      "source": [
        "results.plot_diagnostics(figsize=(16, 8))\r\n",
        "plt.show()"
      ],
      "execution_count": 38,
      "outputs": [
        {
          "output_type": "display_data",
          "data": {
            "image/png": "[encoded data removed]",
            "text/plain": [
              "<Figure size 1152x576 with 4 Axes>"
            ]
          },
          "metadata": {
            "tags": [],
            "needs_background": "light"
          }
        }
      ]
    },
    {
      "cell_type": "code",
      "metadata": {
        "colab": {
          "base_uri": "https://localhost:8080/",
          "height": 465
        },
        "id": "tjTw7R7L0DNk",
        "outputId": "998a8698-4f61-4708-937d-08268f5134cd"
      },
      "source": [
        "pred_uc = results.get_forecast(steps=25)\r\n",
        "pred_ci = pred_uc.conf_int(alpha=0.80)\r\n",
        "\r\n",
        "ax = y_energy.plot(label='observed', figsize=(14, 7))\r\n",
        "pred_uc.predicted_mean.plot(ax=ax, label='Forecast')\r\n",
        "\r\n",
        "ax.fill_between(pred_ci.index, pred_ci.iloc[:, 0], pred_ci.iloc[:, 1], color='k', alpha=.1)\r\n",
        "\r\n",
        "ax.fill_betweenx(ax.get_ylim(), pd.to_datetime('2021-12-31'), y_energy.index[-1], alpha=.01, zorder=-2)\r\n",
        "\r\n",
        "ax.set_xlabel('Year')\r\n",
        "ax.set_ylabel('Energy Consumer Price Index $ USD')\r\n",
        "ax.set_title('Energy Consumer Price Index Forecast')\r\n",
        "plt.legend()\r\n",
        "plt.show()"
      ],
      "execution_count": 39,
      "outputs": [
        {
          "output_type": "display_data",
          "data": {
            "image/png": "[encoded data removed]",
            "text/plain": [
              "<Figure size 1008x504 with 1 Axes>"
            ]
          },
          "metadata": {
            "tags": [],
            "needs_background": "light"
          }
        }
      ]
    },
    {
      "cell_type": "code",
      "metadata": {
        "colab": {
          "base_uri": "https://localhost:8080/",
          "height": 542
        },
        "id": "aj2Qi2bs4kxO",
        "outputId": "d8822fcd-0491-4245-ab7d-cd626942078e"
      },
      "source": [
        "# Plotly version\r\n",
        "\r\n",
        "import plotly.express as px\r\n",
        "\r\n",
        "fig = px.line(x=y_energy.index, y=y_energy.values, title=\"Energy Consumer Price Index\", labels=dict(x=\"Year\", y=\"Consumer Price Index for Energy\", color=\"Place\"))\r\n",
        "fig.add_scatter(x=pred_ci.index, y=pred_ci['lower CPI'])\r\n",
        "fig.update_layout(showlegend=False)\r\n",
        "fig.show()"
      ],
      "execution_count": 41,
      "outputs": [
        {
          "output_type": "display_data",
          "data": {
            "text/html": [
              "<html>\n",
              "<head><meta charset=\"utf-8\" /></head>\n",
              "<body>\n",
              "    <div>\n",
              "            <script src=\"https://cdnjs.cloudflare.com/ajax/libs/mathjax/2.7.5/MathJax.js?config=TeX-AMS-MML_SVG\"></script><script type=\"text/javascript\">if (window.MathJax) {MathJax.Hub.Config({SVG: {font: \"STIX-Web\"}});}</script>\n",
              "                <script type=\"text/javascript\">window.PlotlyConfig = {MathJaxConfig: 'local'};</script>\n",
              "        <script src=\"https://cdn.plot.ly/plotly-latest.min.js\"></script>    \n",
              "            <div id=\"7472ffb7-a3aa-4103-bca6-1f6a7e7c9026\" class=\"plotly-graph-div\" style=\"height:525px; width:100%;\"></div>\n",
              "            <script type=\"text/javascript\">\n",
              "                \n",
              "                    window.PLOTLYENV=window.PLOTLYENV || {};\n",
              "                    \n",
              "                if (document.getElementById(\"7472ffb7-a3aa-4103-bca6-1f6a7e7c9026\")) {\n",
              "                    Plotly.newPlot(\n",
              "                        '7472ffb7-a3aa-4103-bca6-1f6a7e7c9026',\n",
              "                        [{\"hoverlabel\": {\"namelength\": 0}, \"hovertemplate\": \"Year=%{x}<br>Consumer Price Index for Energy=%{y}\", \"legendgroup\": \"\", \"line\": {\"color\": \"#636efa\", \"dash\": \"solid\"}, \"mode\": \"lines\", \"name\": \"\", \"showlegend\": false, \"type\": \"scatter\", \"x\": [\"1957-12-31T00:00:00\", \"1958-12-31T00:00:00\", \"1959-12-31T00:00:00\", \"1960-12-31T00:00:00\", \"1961-12-31T00:00:00\", \"1962-12-31T00:00:00\", \"1963-12-31T00:00:00\", \"1964-12-31T00:00:00\", \"1965-12-31T00:00:00\", \"1966-12-31T00:00:00\", \"1967-12-31T00:00:00\", \"1968-12-31T00:00:00\", \"1969-12-31T00:00:00\", \"1970-12-31T00:00:00\", \"1971-12-31T00:00:00\", \"1972-12-31T00:00:00\", \"1973-12-31T00:00:00\", \"1974-12-31T00:00:00\", \"1975-12-31T00:00:00\", \"1976-12-31T00:00:00\", \"1977-12-31T00:00:00\", \"1978-12-31T00:00:00\", \"1979-12-31T00:00:00\", \"1980-12-31T00:00:00\", \"1981-12-31T00:00:00\", \"1982-12-31T00:00:00\", \"1983-12-31T00:00:00\", \"1984-12-31T00:00:00\", \"1985-12-31T00:00:00\", \"1986-12-31T00:00:00\", \"1987-12-31T00:00:00\", \"1988-12-31T00:00:00\", \"1989-12-31T00:00:00\", \"1990-12-31T00:00:00\", \"1991-12-31T00:00:00\", \"1992-12-31T00:00:00\", \"1993-12-31T00:00:00\", \"1994-12-31T00:00:00\", \"1995-12-31T00:00:00\", \"1996-12-31T00:00:00\", \"1997-12-31T00:00:00\", \"1998-12-31T00:00:00\", \"1999-12-31T00:00:00\", \"2000-12-31T00:00:00\", \"2001-12-31T00:00:00\", \"2002-12-31T00:00:00\", \"2003-12-31T00:00:00\", \"2004-12-31T00:00:00\", \"2005-12-31T00:00:00\", \"2006-12-31T00:00:00\", \"2007-12-31T00:00:00\", \"2008-12-31T00:00:00\", \"2009-12-31T00:00:00\", \"2010-12-31T00:00:00\", \"2011-12-31T00:00:00\", \"2012-12-31T00:00:00\", \"2013-12-31T00:00:00\", \"2014-12-31T00:00:00\", \"2015-12-31T00:00:00\", \"2016-12-31T00:00:00\", \"2017-12-31T00:00:00\", \"2018-12-31T00:00:00\", \"2019-12-31T00:00:00\", \"2020-12-31T00:00:00\", \"2021-12-31T00:00:00\"], \"xaxis\": \"x\", \"y\": [21.476999999999997, 21.531, 21.9, 22.430999999999997, 22.491999999999997, 22.585, 22.623, 22.531, 22.945999999999998, 23.3, 23.838, 24.191999999999997, 24.815, 25.5, 26.508000000000003, 27.238000000000003, 29.445999999999998, 38.054, 42.092, 45.108000000000004, 49.391999999999996, 52.531000000000006, 65.738, 86.031, 97.715, 99.154, 99.92299999999999, 100.92299999999999, 101.631, 88.23100000000001, 88.585, 89.25399999999999, 94.315, 102.09200000000001, 102.454, 103.0, 104.154, 104.62299999999999, 105.238, 110.131, 111.515, 102.87700000000001, 106.615, 124.60799999999999, 129.292, 121.677, 136.49200000000002, 151.392, 177.054, 196.862, 207.72299999999998, 236.666, 193.12599999999998, 211.449, 243.90900000000002, 246.08, 244.40900000000002, 243.583, 202.895, 189.535, 204.54, 219.94099999999997, 215.294, 196.949, 205.273], \"yaxis\": \"y\"}, {\"type\": \"scatter\", \"x\": [\"2022-12-31T00:00:00\", \"2023-12-31T00:00:00\", \"2024-12-31T00:00:00\", \"2025-12-31T00:00:00\", \"2026-12-31T00:00:00\", \"2027-12-31T00:00:00\", \"2028-12-31T00:00:00\", \"2029-12-31T00:00:00\", \"2030-12-31T00:00:00\", \"2031-12-31T00:00:00\", \"2032-12-31T00:00:00\", \"2033-12-31T00:00:00\", \"2034-12-31T00:00:00\", \"2035-12-31T00:00:00\", \"2036-12-31T00:00:00\", \"2037-12-31T00:00:00\", \"2038-12-31T00:00:00\", \"2039-12-31T00:00:00\", \"2040-12-31T00:00:00\", \"2041-12-31T00:00:00\", \"2042-12-31T00:00:00\", \"2043-12-31T00:00:00\", \"2044-12-31T00:00:00\", \"2045-12-31T00:00:00\", \"2046-12-31T00:00:00\"], \"y\": [192.37638691122868, 193.6838881924445, 213.58182469319067, 219.11509798850042, 210.94483660520416, 231.2302332009489, 248.8644635266378, 275.4899549795882, 295.61903968128405, 307.8715447832949, 341.31283629793546, 292.5334250410529, 313.4593388448742, 348.7667551861231, 349.0223383193097, 346.48222366039573, 346.2218829326767, 299.3994371393965, 282.8502816576669, 296.57006069449744, 311.3645844554334, 304.91879624071805, 281.3533455543432, 295.1449377905079, 281.5205090594499]}],\n",
              "                        {\"legend\": {\"tracegroupgap\": 0}, \"showlegend\": false, \"template\": {\"data\": {\"bar\": [{\"error_x\": {\"color\": \"#2a3f5f\"}, \"error_y\": {\"color\": \"#2a3f5f\"}, \"marker\": {\"line\": {\"color\": \"#E5ECF6\", \"width\": 0.5}}, \"type\": \"bar\"}], \"barpolar\": [{\"marker\": {\"line\": {\"color\": \"#E5ECF6\", \"width\": 0.5}}, \"type\": \"barpolar\"}], \"carpet\": [{\"aaxis\": {\"endlinecolor\": \"#2a3f5f\", \"gridcolor\": \"white\", \"linecolor\": \"white\", \"minorgridcolor\": \"white\", \"startlinecolor\": \"#2a3f5f\"}, \"baxis\": {\"endlinecolor\": \"#2a3f5f\", \"gridcolor\": \"white\", \"linecolor\": \"white\", \"minorgridcolor\": \"white\", \"startlinecolor\": \"#2a3f5f\"}, \"type\": \"carpet\"}], \"choropleth\": [{\"colorbar\": {\"outlinewidth\": 0, \"ticks\": \"\"}, \"type\": \"choropleth\"}], \"contour\": [{\"colorbar\": {\"outlinewidth\": 0, \"ticks\": \"\"}, \"colorscale\": [[0.0, \"#0d0887\"], [0.1111111111111111, \"#46039f\"], [0.2222222222222222, \"#7201a8\"], [0.3333333333333333, \"#9c179e\"], [0.4444444444444444, \"#bd3786\"], [0.5555555555555556, \"#d8576b\"], [0.6666666666666666, \"#ed7953\"], [0.7777777777777778, \"#fb9f3a\"], [0.8888888888888888, \"#fdca26\"], [1.0, \"#f0f921\"]], \"type\": \"contour\"}], \"contourcarpet\": [{\"colorbar\": {\"outlinewidth\": 0, \"ticks\": \"\"}, \"type\": \"contourcarpet\"}], \"heatmap\": [{\"colorbar\": {\"outlinewidth\": 0, \"ticks\": \"\"}, \"colorscale\": [[0.0, \"#0d0887\"], [0.1111111111111111, \"#46039f\"], [0.2222222222222222, \"#7201a8\"], [0.3333333333333333, \"#9c179e\"], [0.4444444444444444, \"#bd3786\"], [0.5555555555555556, \"#d8576b\"], [0.6666666666666666, \"#ed7953\"], [0.7777777777777778, \"#fb9f3a\"], [0.8888888888888888, \"#fdca26\"], [1.0, \"#f0f921\"]], \"type\": \"heatmap\"}], \"heatmapgl\": [{\"colorbar\": {\"outlinewidth\": 0, \"ticks\": \"\"}, \"colorscale\": [[0.0, \"#0d0887\"], [0.1111111111111111, \"#46039f\"], [0.2222222222222222, \"#7201a8\"], [0.3333333333333333, \"#9c179e\"], [0.4444444444444444, \"#bd3786\"], [0.5555555555555556, \"#d8576b\"], [0.6666666666666666, \"#ed7953\"], [0.7777777777777778, \"#fb9f3a\"], [0.8888888888888888, \"#fdca26\"], [1.0, \"#f0f921\"]], \"type\": \"heatmapgl\"}], \"histogram\": [{\"marker\": {\"colorbar\": {\"outlinewidth\": 0, \"ticks\": \"\"}}, \"type\": \"histogram\"}], \"histogram2d\": [{\"colorbar\": {\"outlinewidth\": 0, \"ticks\": \"\"}, \"colorscale\": [[0.0, \"#0d0887\"], [0.1111111111111111, \"#46039f\"], [0.2222222222222222, \"#7201a8\"], [0.3333333333333333, \"#9c179e\"], [0.4444444444444444, \"#bd3786\"], [0.5555555555555556, \"#d8576b\"], [0.6666666666666666, \"#ed7953\"], [0.7777777777777778, \"#fb9f3a\"], [0.8888888888888888, \"#fdca26\"], [1.0, \"#f0f921\"]], \"type\": \"histogram2d\"}], \"histogram2dcontour\": [{\"colorbar\": {\"outlinewidth\": 0, \"ticks\": \"\"}, \"colorscale\": [[0.0, \"#0d0887\"], [0.1111111111111111, \"#46039f\"], [0.2222222222222222, \"#7201a8\"], [0.3333333333333333, \"#9c179e\"], [0.4444444444444444, \"#bd3786\"], [0.5555555555555556, \"#d8576b\"], [0.6666666666666666, \"#ed7953\"], [0.7777777777777778, \"#fb9f3a\"], [0.8888888888888888, \"#fdca26\"], [1.0, \"#f0f921\"]], \"type\": \"histogram2dcontour\"}], \"mesh3d\": [{\"colorbar\": {\"outlinewidth\": 0, \"ticks\": \"\"}, \"type\": \"mesh3d\"}], \"parcoords\": [{\"line\": {\"colorbar\": {\"outlinewidth\": 0, \"ticks\": \"\"}}, \"type\": \"parcoords\"}], \"pie\": [{\"automargin\": true, \"type\": \"pie\"}], \"scatter\": [{\"marker\": {\"colorbar\": {\"outlinewidth\": 0, \"ticks\": \"\"}}, \"type\": \"scatter\"}], \"scatter3d\": [{\"line\": {\"colorbar\": {\"outlinewidth\": 0, \"ticks\": \"\"}}, \"marker\": {\"colorbar\": {\"outlinewidth\": 0, \"ticks\": \"\"}}, \"type\": \"scatter3d\"}], \"scattercarpet\": [{\"marker\": {\"colorbar\": {\"outlinewidth\": 0, \"ticks\": \"\"}}, \"type\": \"scattercarpet\"}], \"scattergeo\": [{\"marker\": {\"colorbar\": {\"outlinewidth\": 0, \"ticks\": \"\"}}, \"type\": \"scattergeo\"}], \"scattergl\": [{\"marker\": {\"colorbar\": {\"outlinewidth\": 0, \"ticks\": \"\"}}, \"type\": \"scattergl\"}], \"scattermapbox\": [{\"marker\": {\"colorbar\": {\"outlinewidth\": 0, \"ticks\": \"\"}}, \"type\": \"scattermapbox\"}], \"scatterpolar\": [{\"marker\": {\"colorbar\": {\"outlinewidth\": 0, \"ticks\": \"\"}}, \"type\": \"scatterpolar\"}], \"scatterpolargl\": [{\"marker\": {\"colorbar\": {\"outlinewidth\": 0, \"ticks\": \"\"}}, \"type\": \"scatterpolargl\"}], \"scatterternary\": [{\"marker\": {\"colorbar\": {\"outlinewidth\": 0, \"ticks\": \"\"}}, \"type\": \"scatterternary\"}], \"surface\": [{\"colorbar\": {\"outlinewidth\": 0, \"ticks\": \"\"}, \"colorscale\": [[0.0, \"#0d0887\"], [0.1111111111111111, \"#46039f\"], [0.2222222222222222, \"#7201a8\"], [0.3333333333333333, \"#9c179e\"], [0.4444444444444444, \"#bd3786\"], [0.5555555555555556, \"#d8576b\"], [0.6666666666666666, \"#ed7953\"], [0.7777777777777778, \"#fb9f3a\"], [0.8888888888888888, \"#fdca26\"], [1.0, \"#f0f921\"]], \"type\": \"surface\"}], \"table\": [{\"cells\": {\"fill\": {\"color\": \"#EBF0F8\"}, \"line\": {\"color\": \"white\"}}, \"header\": {\"fill\": {\"color\": \"#C8D4E3\"}, \"line\": {\"color\": \"white\"}}, \"type\": \"table\"}]}, \"layout\": {\"annotationdefaults\": {\"arrowcolor\": \"#2a3f5f\", \"arrowhead\": 0, \"arrowwidth\": 1}, \"coloraxis\": {\"colorbar\": {\"outlinewidth\": 0, \"ticks\": \"\"}}, \"colorscale\": {\"diverging\": [[0, \"#8e0152\"], [0.1, \"#c51b7d\"], [0.2, \"#de77ae\"], [0.3, \"#f1b6da\"], [0.4, \"#fde0ef\"], [0.5, \"#f7f7f7\"], [0.6, \"#e6f5d0\"], [0.7, \"#b8e186\"], [0.8, \"#7fbc41\"], [0.9, \"#4d9221\"], [1, \"#276419\"]], \"sequential\": [[0.0, \"#0d0887\"], [0.1111111111111111, \"#46039f\"], [0.2222222222222222, \"#7201a8\"], [0.3333333333333333, \"#9c179e\"], [0.4444444444444444, \"#bd3786\"], [0.5555555555555556, \"#d8576b\"], [0.6666666666666666, \"#ed7953\"], [0.7777777777777778, \"#fb9f3a\"], [0.8888888888888888, \"#fdca26\"], [1.0, \"#f0f921\"]], \"sequentialminus\": [[0.0, \"#0d0887\"], [0.1111111111111111, \"#46039f\"], [0.2222222222222222, \"#7201a8\"], [0.3333333333333333, \"#9c179e\"], [0.4444444444444444, \"#bd3786\"], [0.5555555555555556, \"#d8576b\"], [0.6666666666666666, \"#ed7953\"], [0.7777777777777778, \"#fb9f3a\"], [0.8888888888888888, \"#fdca26\"], [1.0, \"#f0f921\"]]}, \"colorway\": [\"#636efa\", \"#EF553B\", \"#00cc96\", \"#ab63fa\", \"#FFA15A\", \"#19d3f3\", \"#FF6692\", \"#B6E880\", \"#FF97FF\", \"#FECB52\"], \"font\": {\"color\": \"#2a3f5f\"}, \"geo\": {\"bgcolor\": \"white\", \"lakecolor\": \"white\", \"landcolor\": \"#E5ECF6\", \"showlakes\": true, \"showland\": true, \"subunitcolor\": \"white\"}, \"hoverlabel\": {\"align\": \"left\"}, \"hovermode\": \"closest\", \"mapbox\": {\"style\": \"light\"}, \"paper_bgcolor\": \"white\", \"plot_bgcolor\": \"#E5ECF6\", \"polar\": {\"angularaxis\": {\"gridcolor\": \"white\", \"linecolor\": \"white\", \"ticks\": \"\"}, \"bgcolor\": \"#E5ECF6\", \"radialaxis\": {\"gridcolor\": \"white\", \"linecolor\": \"white\", \"ticks\": \"\"}}, \"scene\": {\"xaxis\": {\"backgroundcolor\": \"#E5ECF6\", \"gridcolor\": \"white\", \"gridwidth\": 2, \"linecolor\": \"white\", \"showbackground\": true, \"ticks\": \"\", \"zerolinecolor\": \"white\"}, \"yaxis\": {\"backgroundcolor\": \"#E5ECF6\", \"gridcolor\": \"white\", \"gridwidth\": 2, \"linecolor\": \"white\", \"showbackground\": true, \"ticks\": \"\", \"zerolinecolor\": \"white\"}, \"zaxis\": {\"backgroundcolor\": \"#E5ECF6\", \"gridcolor\": \"white\", \"gridwidth\": 2, \"linecolor\": \"white\", \"showbackground\": true, \"ticks\": \"\", \"zerolinecolor\": \"white\"}}, \"shapedefaults\": {\"line\": {\"color\": \"#2a3f5f\"}}, \"ternary\": {\"aaxis\": {\"gridcolor\": \"white\", \"linecolor\": \"white\", \"ticks\": \"\"}, \"baxis\": {\"gridcolor\": \"white\", \"linecolor\": \"white\", \"ticks\": \"\"}, \"bgcolor\": \"#E5ECF6\", \"caxis\": {\"gridcolor\": \"white\", \"linecolor\": \"white\", \"ticks\": \"\"}}, \"title\": {\"x\": 0.05}, \"xaxis\": {\"automargin\": true, \"gridcolor\": \"white\", \"linecolor\": \"white\", \"ticks\": \"\", \"title\": {\"standoff\": 15}, \"zerolinecolor\": \"white\", \"zerolinewidth\": 2}, \"yaxis\": {\"automargin\": true, \"gridcolor\": \"white\", \"linecolor\": \"white\", \"ticks\": \"\", \"title\": {\"standoff\": 15}, \"zerolinecolor\": \"white\", \"zerolinewidth\": 2}}}, \"title\": {\"text\": \"Energy Consumer Price Index\"}, \"xaxis\": {\"anchor\": \"y\", \"domain\": [0.0, 1.0], \"title\": {\"text\": \"Year\"}}, \"yaxis\": {\"anchor\": \"x\", \"domain\": [0.0, 1.0], \"title\": {\"text\": \"Consumer Price Index for Energy\"}}},\n",
              "                        {\"responsive\": true}\n",
              "                    ).then(function(){\n",
              "                            \n",
              "var gd = document.getElementById('7472ffb7-a3aa-4103-bca6-1f6a7e7c9026');\n",
              "var x = new MutationObserver(function (mutations, observer) {{\n",
              "        var display = window.getComputedStyle(gd).display;\n",
              "        if (!display || display === 'none') {{\n",
              "            console.log([gd, 'removed!']);\n",
              "            Plotly.purge(gd);\n",
              "            observer.disconnect();\n",
              "        }}\n",
              "}});\n",
              "\n",
              "// Listen for the removal of the full notebook cells\n",
              "var notebookContainer = gd.closest('#notebook-container');\n",
              "if (notebookContainer) {{\n",
              "    x.observe(notebookContainer, {childList: true});\n",
              "}}\n",
              "\n",
              "// Listen for the clearing of the current output cell\n",
              "var outputEl = gd.closest('.output');\n",
              "if (outputEl) {{\n",
              "    x.observe(outputEl, {childList: true});\n",
              "}}\n",
              "\n",
              "                        })\n",
              "                };\n",
              "                \n",
              "            </script>\n",
              "        </div>\n",
              "</body>\n",
              "</html>"
            ]
          },
          "metadata": {
            "tags": []
          }
        }
      ]
    }
  ]
}